{
 "cells": [
  {
   "cell_type": "markdown",
   "metadata": {
    "id": "yS3c5TMcysZk"
   },
   "source": [
    "## Лабораторна робота 5. **CLASSIFICATION** 🔵/🔺"
   ]
  },
  {
   "cell_type": "markdown",
   "metadata": {
    "id": "o_YxWfDYysZp"
   },
   "source": [
    "Оцінювання даної роботи буде ураховувати якість Ваших висновків та візуалізацій. При наявності ЛИШЕ коду та візуалізацій без роз'яснень, робота оцінюватися НЕ БУДЕ.  \n",
    "\n",
    "Більшість поставлених в цій лабораторній роботі задач в майбутньому буде ставитись Вами самойстійно!\n",
    "\n",
    "Під час виконання Вам дозволено користуватися будь-якими зручними для вас бібліотеками для візуалізації. \n",
    "\n",
    "Оформлення коментарів повинно проводитися в текстових комірках ноутбука з використанням синтаксису [LaTeX](https://en.wikibooks.org/wiki/LaTeX/Basics) для оформлення тексту та формул. \n",
    "\n",
    "Роботи ідентифіковані як ІДЕНТИЧНІ одразу отримують 0 балів."
   ]
  },
  {
   "cell_type": "markdown",
   "metadata": {
    "id": "ji8bJZmkysZq"
   },
   "source": [
    "# Опис вибірки \"bank-additional-full\""
   ]
  },
  {
   "cell_type": "markdown",
   "metadata": {
    "id": "fN7lEmYNysZq"
   },
   "source": [
    "   # Input variables:\n",
    "   `bank client data:`  \n",
    "   1 - **age** (numeric)  \n",
    "   2 - **job** : type of job (categorical: \"admin.\",\"blue-collar\",\"entrepreneur\",\"housemaid\",\"management\",\"retired\",\"self-employed\",\"services\",\"student\",\"technician\",\"unemployed\",\"unknown\")  \n",
    "   3 - **marital** : marital status (categorical: \"divorced\",\"married\",\"single\",\"unknown\"; note: \"divorced\" means divorced or widowed)  \n",
    "   4 - **education** (categorical: \"basic.4y\",\"basic.6y\",\"basic.9y\",\"high.school\",\"illiterate\",\"professional.course\",\"university.degree\",\"unknown\")  \n",
    "   5 - **default**: has credit in default? (categorical: \"no\",\"yes\",\"unknown\")  \n",
    "   6 - **housing**: has housing loan? (categorical: \"no\",\"yes\",\"unknown\")  \n",
    "   7 - **loan**: has personal loan? (categorical: \"no\",\"yes\",\"unknown\")  \n",
    "   # related with the last contact of the current campaign:  \n",
    "   8 - **contact**: contact communication type (categorical: \"cellular\",\"telephone\")   \n",
    "   9 - **month**: last contact month of year (categorical: \"jan\", \"feb\", \"mar\", ..., \"nov\", \"dec\")  \n",
    "  10 - **day_of_week**: last contact day of the week (categorical: \"mon\",\"tue\",\"wed\",\"thu\",\"fri\")  \n",
    "  11 - **duration**: last contact duration, in seconds (numeric). Important note:  this attribute highly affects the output target (e.g., if duration=0 then y=\"no\"). Yet, the duration is not known before a call is performed. Also, after the end of the call y is obviously known. Thus, this input should only be included for benchmark purposes and should be discarded if the intention is to have a realistic predictive model.  \n",
    "   # other attributes:  \n",
    "  12 - **campaign**: number of contacts performed during this campaign and for this client (numeric, includes last contact)  \n",
    "  13 - **pdays**: number of days that passed by after the client was last contacted from a previous campaign (numeric; 999 means client was not previously contacted)  \n",
    "  14 - **previous**: number of contacts performed before this campaign and for this client (numeric) \n",
    "  15 - **poutcome**: outcome of the previous marketing campaign (categorical: \"failure\",\"nonexistent\",\"success\")  \n",
    "   # social and economic context attributes  \n",
    "  16 - **emp.var.rate**: employment variation rate - quarterly indicator (numeric)  \n",
    "  17 - **cons.price.idx**: consumer price index - monthly indicator (numeric)       \n",
    "  18 - **cons.conf.idx**: consumer confidence index - monthly indicator (numeric)       \n",
    "  19 - **euribor3m**: euribor 3 month rate - daily indicator (numeric)  \n",
    "  20 - **nr.employed**: number of employees - quarterly indicator (numeric)  \n",
    "    \n",
    "   `Output variable (desired target):`  \n",
    "  21 - **y** - has the client subscribed a term deposit? (binary: \"yes\",\"no\")"
   ]
  },
  {
   "cell_type": "markdown",
   "metadata": {
    "id": "BewrKRUIysZr"
   },
   "source": [
    "## Імпорт необхідних бібліотек та завантаження даних"
   ]
  },
  {
   "cell_type": "markdown",
   "metadata": {
    "id": "sxyNYSbRysZr"
   },
   "source": [
    "**Завдання 1** підготовка даних до опрацювання\n",
    "\n",
    "1. завантажте вибірку `bank-additional-full.csv`;   \n",
    "2. підключіть необхідні бібліотеки;  \n",
    "3. вивести основну статистичну інформацію по числовим змінним;  \n",
    "4. вивести розмірність датасету."
   ]
  },
  {
   "cell_type": "code",
   "execution_count": 491,
   "metadata": {
    "id": "8f4DR0U4ysZr"
   },
   "outputs": [],
   "source": [
    "import numpy as np\n",
    "import pandas as pd\n",
    "import matplotlib.pyplot as plt\n",
    "import seaborn as sns\n",
    "from sklearn.preprocessing import LabelEncoder\n",
    "from sklearn.model_selection import train_test_split\n",
    "from sklearn.model_selection import KFold\n",
    "from sklearn.linear_model import LogisticRegression\n",
    "from sklearn.model_selection import cross_val_score\n",
    "from sklearn.metrics import confusion_matrix, accuracy_score\n",
    "from sklearn.model_selection import train_test_split\n",
    "from sklearn.preprocessing import StandardScaler\n",
    "from sklearn import model_selection\n",
    "from sklearn.neighbors import KNeighborsClassifier\n",
    "\n",
    "%matplotlib inline\n",
    "import warnings\n",
    "warnings.filterwarnings('ignore')"
   ]
  },
  {
   "cell_type": "code",
   "execution_count": 492,
   "metadata": {
    "id": "uzAsItFFysZs"
   },
   "outputs": [],
   "source": [
    "dataset = pd.read_csv('bank-additional-full.csv',sep=';', quotechar='\"')"
   ]
  },
  {
   "cell_type": "code",
   "execution_count": 493,
   "metadata": {},
   "outputs": [
    {
     "data": {
      "text/plain": [
       "(41188, 21)"
      ]
     },
     "execution_count": 493,
     "metadata": {},
     "output_type": "execute_result"
    }
   ],
   "source": [
    "dataset.shape"
   ]
  },
  {
   "cell_type": "code",
   "execution_count": 494,
   "metadata": {},
   "outputs": [
    {
     "data": {
      "text/html": [
       "<div>\n",
       "<style scoped>\n",
       "    .dataframe tbody tr th:only-of-type {\n",
       "        vertical-align: middle;\n",
       "    }\n",
       "\n",
       "    .dataframe tbody tr th {\n",
       "        vertical-align: top;\n",
       "    }\n",
       "\n",
       "    .dataframe thead th {\n",
       "        text-align: right;\n",
       "    }\n",
       "</style>\n",
       "<table border=\"1\" class=\"dataframe\">\n",
       "  <thead>\n",
       "    <tr style=\"text-align: right;\">\n",
       "      <th></th>\n",
       "      <th>count</th>\n",
       "      <th>mean</th>\n",
       "      <th>std</th>\n",
       "      <th>min</th>\n",
       "      <th>25%</th>\n",
       "      <th>50%</th>\n",
       "      <th>75%</th>\n",
       "      <th>max</th>\n",
       "    </tr>\n",
       "  </thead>\n",
       "  <tbody>\n",
       "    <tr>\n",
       "      <th>age</th>\n",
       "      <td>41188.0</td>\n",
       "      <td>40.024060</td>\n",
       "      <td>10.421250</td>\n",
       "      <td>17.000</td>\n",
       "      <td>32.000</td>\n",
       "      <td>38.000</td>\n",
       "      <td>47.000</td>\n",
       "      <td>98.000</td>\n",
       "    </tr>\n",
       "    <tr>\n",
       "      <th>duration</th>\n",
       "      <td>41188.0</td>\n",
       "      <td>258.285010</td>\n",
       "      <td>259.279249</td>\n",
       "      <td>0.000</td>\n",
       "      <td>102.000</td>\n",
       "      <td>180.000</td>\n",
       "      <td>319.000</td>\n",
       "      <td>4918.000</td>\n",
       "    </tr>\n",
       "    <tr>\n",
       "      <th>campaign</th>\n",
       "      <td>41188.0</td>\n",
       "      <td>2.567593</td>\n",
       "      <td>2.770014</td>\n",
       "      <td>1.000</td>\n",
       "      <td>1.000</td>\n",
       "      <td>2.000</td>\n",
       "      <td>3.000</td>\n",
       "      <td>56.000</td>\n",
       "    </tr>\n",
       "    <tr>\n",
       "      <th>pdays</th>\n",
       "      <td>41188.0</td>\n",
       "      <td>962.475454</td>\n",
       "      <td>186.910907</td>\n",
       "      <td>0.000</td>\n",
       "      <td>999.000</td>\n",
       "      <td>999.000</td>\n",
       "      <td>999.000</td>\n",
       "      <td>999.000</td>\n",
       "    </tr>\n",
       "    <tr>\n",
       "      <th>previous</th>\n",
       "      <td>41188.0</td>\n",
       "      <td>0.172963</td>\n",
       "      <td>0.494901</td>\n",
       "      <td>0.000</td>\n",
       "      <td>0.000</td>\n",
       "      <td>0.000</td>\n",
       "      <td>0.000</td>\n",
       "      <td>7.000</td>\n",
       "    </tr>\n",
       "    <tr>\n",
       "      <th>emp.var.rate</th>\n",
       "      <td>41188.0</td>\n",
       "      <td>0.081886</td>\n",
       "      <td>1.570960</td>\n",
       "      <td>-3.400</td>\n",
       "      <td>-1.800</td>\n",
       "      <td>1.100</td>\n",
       "      <td>1.400</td>\n",
       "      <td>1.400</td>\n",
       "    </tr>\n",
       "    <tr>\n",
       "      <th>cons.price.idx</th>\n",
       "      <td>41188.0</td>\n",
       "      <td>93.575664</td>\n",
       "      <td>0.578840</td>\n",
       "      <td>92.201</td>\n",
       "      <td>93.075</td>\n",
       "      <td>93.749</td>\n",
       "      <td>93.994</td>\n",
       "      <td>94.767</td>\n",
       "    </tr>\n",
       "    <tr>\n",
       "      <th>cons.conf.idx</th>\n",
       "      <td>41188.0</td>\n",
       "      <td>-40.502600</td>\n",
       "      <td>4.628198</td>\n",
       "      <td>-50.800</td>\n",
       "      <td>-42.700</td>\n",
       "      <td>-41.800</td>\n",
       "      <td>-36.400</td>\n",
       "      <td>-26.900</td>\n",
       "    </tr>\n",
       "    <tr>\n",
       "      <th>euribor3m</th>\n",
       "      <td>41188.0</td>\n",
       "      <td>3.621291</td>\n",
       "      <td>1.734447</td>\n",
       "      <td>0.634</td>\n",
       "      <td>1.344</td>\n",
       "      <td>4.857</td>\n",
       "      <td>4.961</td>\n",
       "      <td>5.045</td>\n",
       "    </tr>\n",
       "    <tr>\n",
       "      <th>nr.employed</th>\n",
       "      <td>41188.0</td>\n",
       "      <td>5167.035911</td>\n",
       "      <td>72.251528</td>\n",
       "      <td>4963.600</td>\n",
       "      <td>5099.100</td>\n",
       "      <td>5191.000</td>\n",
       "      <td>5228.100</td>\n",
       "      <td>5228.100</td>\n",
       "    </tr>\n",
       "  </tbody>\n",
       "</table>\n",
       "</div>"
      ],
      "text/plain": [
       "                  count         mean         std       min       25%  \\\n",
       "age             41188.0    40.024060   10.421250    17.000    32.000   \n",
       "duration        41188.0   258.285010  259.279249     0.000   102.000   \n",
       "campaign        41188.0     2.567593    2.770014     1.000     1.000   \n",
       "pdays           41188.0   962.475454  186.910907     0.000   999.000   \n",
       "previous        41188.0     0.172963    0.494901     0.000     0.000   \n",
       "emp.var.rate    41188.0     0.081886    1.570960    -3.400    -1.800   \n",
       "cons.price.idx  41188.0    93.575664    0.578840    92.201    93.075   \n",
       "cons.conf.idx   41188.0   -40.502600    4.628198   -50.800   -42.700   \n",
       "euribor3m       41188.0     3.621291    1.734447     0.634     1.344   \n",
       "nr.employed     41188.0  5167.035911   72.251528  4963.600  5099.100   \n",
       "\n",
       "                     50%       75%       max  \n",
       "age               38.000    47.000    98.000  \n",
       "duration         180.000   319.000  4918.000  \n",
       "campaign           2.000     3.000    56.000  \n",
       "pdays            999.000   999.000   999.000  \n",
       "previous           0.000     0.000     7.000  \n",
       "emp.var.rate       1.100     1.400     1.400  \n",
       "cons.price.idx    93.749    93.994    94.767  \n",
       "cons.conf.idx    -41.800   -36.400   -26.900  \n",
       "euribor3m          4.857     4.961     5.045  \n",
       "nr.employed     5191.000  5228.100  5228.100  "
      ]
     },
     "execution_count": 494,
     "metadata": {},
     "output_type": "execute_result"
    }
   ],
   "source": [
    "dataset.describe().T"
   ]
  },
  {
   "cell_type": "code",
   "execution_count": 495,
   "metadata": {},
   "outputs": [
    {
     "data": {
      "text/plain": [
       "age                 int64\n",
       "job                object\n",
       "marital            object\n",
       "education          object\n",
       "default            object\n",
       "housing            object\n",
       "loan               object\n",
       "contact            object\n",
       "month              object\n",
       "day_of_week        object\n",
       "duration            int64\n",
       "campaign            int64\n",
       "pdays               int64\n",
       "previous            int64\n",
       "poutcome           object\n",
       "emp.var.rate      float64\n",
       "cons.price.idx    float64\n",
       "cons.conf.idx     float64\n",
       "euribor3m         float64\n",
       "nr.employed       float64\n",
       "y                  object\n",
       "dtype: object"
      ]
     },
     "execution_count": 495,
     "metadata": {},
     "output_type": "execute_result"
    }
   ],
   "source": [
    "dataset.dtypes"
   ]
  },
  {
   "cell_type": "code",
   "execution_count": 496,
   "metadata": {},
   "outputs": [
    {
     "data": {
      "text/plain": [
       "age               41188\n",
       "job               41188\n",
       "marital           41188\n",
       "education         41188\n",
       "default           41188\n",
       "housing           41188\n",
       "loan              41188\n",
       "contact           41188\n",
       "month             41188\n",
       "day_of_week       41188\n",
       "duration          41188\n",
       "campaign          41188\n",
       "pdays             41188\n",
       "previous          41188\n",
       "poutcome          41188\n",
       "emp.var.rate      41188\n",
       "cons.price.idx    41188\n",
       "cons.conf.idx     41188\n",
       "euribor3m         41188\n",
       "nr.employed       41188\n",
       "y                 41188\n",
       "dtype: int64"
      ]
     },
     "execution_count": 496,
     "metadata": {},
     "output_type": "execute_result"
    }
   ],
   "source": [
    "dataset.count()"
   ]
  },
  {
   "cell_type": "code",
   "execution_count": 497,
   "metadata": {},
   "outputs": [
    {
     "data": {
      "text/plain": [
       "age               0\n",
       "job               0\n",
       "marital           0\n",
       "education         0\n",
       "default           0\n",
       "housing           0\n",
       "loan              0\n",
       "contact           0\n",
       "month             0\n",
       "day_of_week       0\n",
       "duration          0\n",
       "campaign          0\n",
       "pdays             0\n",
       "previous          0\n",
       "poutcome          0\n",
       "emp.var.rate      0\n",
       "cons.price.idx    0\n",
       "cons.conf.idx     0\n",
       "euribor3m         0\n",
       "nr.employed       0\n",
       "y                 0\n",
       "dtype: int64"
      ]
     },
     "execution_count": 497,
     "metadata": {},
     "output_type": "execute_result"
    }
   ],
   "source": [
    "dataset.isnull().sum()"
   ]
  },
  {
   "cell_type": "markdown",
   "metadata": {
    "id": "DsIS2KLCysZs"
   },
   "source": [
    "**Завдання 2** підготовка цільової змінної  \n",
    "\n",
    "1. проаналізувати атрибути вибірки, визначити цільовий атрибут `target atribute`;\n",
    "2. якщо `target atribute` є категоріальним, його необхідно перетворити в чисельний."
   ]
  },
  {
   "cell_type": "code",
   "execution_count": 498,
   "metadata": {
    "id": "LKsTWBCdysZt"
   },
   "outputs": [
    {
     "data": {
      "text/plain": [
       "0        0\n",
       "1        0\n",
       "2        0\n",
       "3        0\n",
       "4        0\n",
       "        ..\n",
       "41183    1\n",
       "41184    0\n",
       "41185    0\n",
       "41186    1\n",
       "41187    0\n",
       "Name: y, Length: 41188, dtype: int64"
      ]
     },
     "execution_count": 498,
     "metadata": {},
     "output_type": "execute_result"
    }
   ],
   "source": [
    "dataset['y'] = dataset['y'].map({'no':0,'yes':1})\n",
    "bank_target = dataset.y\n",
    "bank_target"
   ]
  },
  {
   "cell_type": "markdown",
   "metadata": {
    "id": "VHy_NT1aysZt"
   },
   "source": [
    "## Аналіз змінних, які характеризують клієнтів банку:"
   ]
  },
  {
   "cell_type": "markdown",
   "metadata": {
    "id": "GDSktQp_ysZt"
   },
   "source": [
    "**Завдання 3** Визначитись зі всіма атрибутами, що характреризують кліентів банку:\n",
    "- виділити їх в окрему частину;\n",
    "- первірити всі змінні (які унікальні значення містять атрибути)(дивись опис датасету)."
   ]
  },
  {
   "cell_type": "code",
   "execution_count": 499,
   "metadata": {
    "id": "lku0lnRIysZt"
   },
   "outputs": [
    {
     "name": "stdout",
     "output_type": "stream",
     "text": [
      "[56 57 37 40 45 59 41 24 25 29 35 54 46 50 39 30 55 49 34 52 58 32 38 44\n",
      " 42 60 53 47 51 48 33 31 43 36 28 27 26 22 23 20 21 61 19 18 70 66 76 67\n",
      " 73 88 95 77 68 75 63 80 62 65 72 82 64 71 69 78 85 79 83 81 74 17 87 91\n",
      " 86 98 94 84 92 89]\n",
      "['housemaid' 'services' 'admin.' 'blue-collar' 'technician' 'retired'\n",
      " 'management' 'unemployed' 'self-employed' 'unknown' 'entrepreneur'\n",
      " 'student']\n",
      "['married' 'single' 'divorced' 'unknown']\n",
      "['basic.4y' 'high.school' 'basic.6y' 'basic.9y' 'professional.course'\n",
      " 'unknown' 'university.degree' 'illiterate']\n",
      "['no' 'unknown' 'yes']\n",
      "['no' 'yes' 'unknown']\n",
      "['no' 'yes' 'unknown']\n"
     ]
    }
   ],
   "source": [
    "bank_client = dataset.loc[:,['age', 'job', 'marital','education','default','housing','loan']]\n",
    "for client in bank_client:\n",
    "    print(dataset[client].unique())\n",
    "\n"
   ]
  },
  {
   "cell_type": "markdown",
   "metadata": {
    "id": "zfKF4TiAysZt"
   },
   "source": [
    "**Завдання 4** Аналіз атрибуту `Age`:  \n",
    "1. Вивести максимальне та мінімальне значення;  \n",
    "2. Перевірити на наявність `NaN`;  \n",
    "3. Провести візуальний аналіз зміної `Age`:\n",
    "    - побудувати `countplot`, `boxplot`, `distplot`;\n",
    "    - перевірити розподіл по змінній `Age` на важкі хвости."
   ]
  },
  {
   "cell_type": "code",
   "execution_count": 500,
   "metadata": {
    "id": "ksMwh5pLysZu"
   },
   "outputs": [
    {
     "name": "stdout",
     "output_type": "stream",
     "text": [
      "98\n",
      "17\n",
      "0\n"
     ]
    },
    {
     "data": {
      "text/plain": [
       "<seaborn.axisgrid.FacetGrid at 0x12c8555d0>"
      ]
     },
     "execution_count": 500,
     "metadata": {},
     "output_type": "execute_result"
    },
    {
     "data": {
      "image/png": "[encoded data removed]",
      "text/plain": [
       "<Figure size 1500x900 with 2 Axes>"
      ]
     },
     "metadata": {},
     "output_type": "display_data"
    },
    {
     "data": {
      "image/png": "[encoded data removed]",
      "text/plain": [
       "<Figure size 500x500 with 1 Axes>"
      ]
     },
     "metadata": {},
     "output_type": "display_data"
    }
   ],
   "source": [
    "print(dataset.age.max())\n",
    "print(dataset.age.min())\n",
    "print(dataset.age.isnull().sum())\n",
    "fig, axes = plt.subplots(ncols=2,nrows=1, figsize=(15, 9))\n",
    "sns.countplot(dataset,x='age',palette='magma',ax=axes[0])\n",
    "sns.boxplot(dataset,y='age',palette='magma',ax=axes[1])\n",
    "sns.displot(dataset,x='age', kde=True)\n",
    "\n"
   ]
  },
  {
   "cell_type": "markdown",
   "metadata": {
    "id": "P_2Fdjg8ysZu"
   },
   "source": [
    "**Висновки з 1-4 завдання (детальні)**"
   ]
  },
  {
   "cell_type": "markdown",
   "metadata": {
    "id": "6MRw2gFlysZu"
   },
   "source": [
    "1.   \n",
    "2.   \n",
    "3. \n",
    "4. "
   ]
  },
  {
   "cell_type": "markdown",
   "metadata": {
    "id": "LHo0NoTHysZu"
   },
   "source": [
    "**Завдання 5** Перевірити атрибут `Age` на викиди: "
   ]
  },
  {
   "cell_type": "code",
   "execution_count": 501,
   "metadata": {
    "id": "9iXl-Y4OysZu"
   },
   "outputs": [],
   "source": [
    "def detect_outliers_with_interquantile_range(df: pd.DataFrame,\n",
    "                                             column: str,\n",
    "                                             low_percentile: int,\n",
    "                                             high_percentile: int) -> pd.DataFrame:\n",
    "    \"\"\"\n",
    "    Detecting outliers using interquantile range set manually\n",
    "\n",
    "    df: pd.DataFrame to detect outliers\n",
    "    column: target column\n",
    "    low_percentile: lower bound between 0 and 100\n",
    "    high_percentile: upper bound between 0 and 100\n",
    "\n",
    "    returns: pd.DataFrame with detected outliers\n",
    "\n",
    "    \"\"\"\n",
    "\n",
    "    sorted_data = np.sort(df[column])\n",
    "    # Calculate Q1, Q2, Q3 and IQR.\n",
    "    Q1 = np.percentile(sorted_data, low_percentile)\n",
    "    Q3 = np.percentile(sorted_data, high_percentile)\n",
    "    print('')\n",
    "    print(f\"Q1 {low_percentile} percentile of the given data: {Q1}\")\n",
    "    print('')\n",
    "    print(f\"Q3 {high_percentile} percentile of the given data: {Q3}\")\n",
    "    print('')\n",
    "    print('----------------------------------------------------------')\n",
    "\n",
    "    IQR = Q3 - Q1\n",
    "    print('')\n",
    "    print(f\"Interquantile range: {IQR}\")\n",
    "    print('')\n",
    "    print('----------------------------------------------------------')\n",
    "    low_lim = low_percentile\n",
    "    up_lim = high_percentile\n",
    "    print('')\n",
    "    print(f\" Lower bound: {low_lim}\")\n",
    "    print('')\n",
    "    print(f\" Upper bound: {up_lim}\")\n",
    "    print('')\n",
    "    print('----------------------------------------------------------')\n",
    "    outliers = df[(df[column] > up_lim) | (df[column] < low_lim)]\n",
    "    print('')\n",
    "    print(f\"Outliers in the dataset:\")\n",
    "    display(outliers)\n",
    "\n",
    "\n",
    "    return outliers"
   ]
  },
  {
   "cell_type": "code",
   "execution_count": 502,
   "metadata": {
    "id": "gc_oPZJMysZv"
   },
   "outputs": [
    {
     "name": "stdout",
     "output_type": "stream",
     "text": [
      "\n",
      "Q1 10 percentile of the given data: 28.0\n",
      "\n",
      "Q3 90 percentile of the given data: 55.0\n",
      "\n",
      "----------------------------------------------------------\n",
      "\n",
      "Interquantile range: 27.0\n",
      "\n",
      "----------------------------------------------------------\n",
      "\n",
      " Lower bound: 10\n",
      "\n",
      " Upper bound: 90\n",
      "\n",
      "----------------------------------------------------------\n",
      "\n",
      "Outliers in the dataset:\n"
     ]
    },
    {
     "data": {
      "text/html": [
       "<div>\n",
       "<style scoped>\n",
       "    .dataframe tbody tr th:only-of-type {\n",
       "        vertical-align: middle;\n",
       "    }\n",
       "\n",
       "    .dataframe tbody tr th {\n",
       "        vertical-align: top;\n",
       "    }\n",
       "\n",
       "    .dataframe thead th {\n",
       "        text-align: right;\n",
       "    }\n",
       "</style>\n",
       "<table border=\"1\" class=\"dataframe\">\n",
       "  <thead>\n",
       "    <tr style=\"text-align: right;\">\n",
       "      <th></th>\n",
       "      <th>age</th>\n",
       "      <th>job</th>\n",
       "      <th>marital</th>\n",
       "      <th>education</th>\n",
       "      <th>default</th>\n",
       "      <th>housing</th>\n",
       "      <th>loan</th>\n",
       "    </tr>\n",
       "  </thead>\n",
       "  <tbody>\n",
       "    <tr>\n",
       "      <th>27826</th>\n",
       "      <td>95</td>\n",
       "      <td>retired</td>\n",
       "      <td>divorced</td>\n",
       "      <td>basic.6y</td>\n",
       "      <td>no</td>\n",
       "      <td>no</td>\n",
       "      <td>no</td>\n",
       "    </tr>\n",
       "    <tr>\n",
       "      <th>38022</th>\n",
       "      <td>91</td>\n",
       "      <td>retired</td>\n",
       "      <td>married</td>\n",
       "      <td>university.degree</td>\n",
       "      <td>no</td>\n",
       "      <td>yes</td>\n",
       "      <td>yes</td>\n",
       "    </tr>\n",
       "    <tr>\n",
       "      <th>38032</th>\n",
       "      <td>91</td>\n",
       "      <td>retired</td>\n",
       "      <td>married</td>\n",
       "      <td>university.degree</td>\n",
       "      <td>no</td>\n",
       "      <td>no</td>\n",
       "      <td>yes</td>\n",
       "    </tr>\n",
       "    <tr>\n",
       "      <th>38452</th>\n",
       "      <td>98</td>\n",
       "      <td>retired</td>\n",
       "      <td>married</td>\n",
       "      <td>basic.4y</td>\n",
       "      <td>unknown</td>\n",
       "      <td>yes</td>\n",
       "      <td>no</td>\n",
       "    </tr>\n",
       "    <tr>\n",
       "      <th>38455</th>\n",
       "      <td>98</td>\n",
       "      <td>retired</td>\n",
       "      <td>married</td>\n",
       "      <td>basic.4y</td>\n",
       "      <td>unknown</td>\n",
       "      <td>yes</td>\n",
       "      <td>no</td>\n",
       "    </tr>\n",
       "    <tr>\n",
       "      <th>38921</th>\n",
       "      <td>94</td>\n",
       "      <td>retired</td>\n",
       "      <td>married</td>\n",
       "      <td>basic.9y</td>\n",
       "      <td>no</td>\n",
       "      <td>no</td>\n",
       "      <td>no</td>\n",
       "    </tr>\n",
       "    <tr>\n",
       "      <th>39655</th>\n",
       "      <td>92</td>\n",
       "      <td>retired</td>\n",
       "      <td>married</td>\n",
       "      <td>unknown</td>\n",
       "      <td>no</td>\n",
       "      <td>yes</td>\n",
       "      <td>no</td>\n",
       "    </tr>\n",
       "    <tr>\n",
       "      <th>39734</th>\n",
       "      <td>92</td>\n",
       "      <td>retired</td>\n",
       "      <td>divorced</td>\n",
       "      <td>unknown</td>\n",
       "      <td>unknown</td>\n",
       "      <td>no</td>\n",
       "      <td>no</td>\n",
       "    </tr>\n",
       "    <tr>\n",
       "      <th>40450</th>\n",
       "      <td>92</td>\n",
       "      <td>retired</td>\n",
       "      <td>married</td>\n",
       "      <td>unknown</td>\n",
       "      <td>no</td>\n",
       "      <td>no</td>\n",
       "      <td>yes</td>\n",
       "    </tr>\n",
       "    <tr>\n",
       "      <th>40469</th>\n",
       "      <td>92</td>\n",
       "      <td>retired</td>\n",
       "      <td>married</td>\n",
       "      <td>unknown</td>\n",
       "      <td>no</td>\n",
       "      <td>no</td>\n",
       "      <td>yes</td>\n",
       "    </tr>\n",
       "  </tbody>\n",
       "</table>\n",
       "</div>"
      ],
      "text/plain": [
       "       age      job   marital          education  default housing loan\n",
       "27826   95  retired  divorced           basic.6y       no      no   no\n",
       "38022   91  retired   married  university.degree       no     yes  yes\n",
       "38032   91  retired   married  university.degree       no      no  yes\n",
       "38452   98  retired   married           basic.4y  unknown     yes   no\n",
       "38455   98  retired   married           basic.4y  unknown     yes   no\n",
       "38921   94  retired   married           basic.9y       no      no   no\n",
       "39655   92  retired   married            unknown       no     yes   no\n",
       "39734   92  retired  divorced            unknown  unknown      no   no\n",
       "40450   92  retired   married            unknown       no      no  yes\n",
       "40469   92  retired   married            unknown       no      no  yes"
      ]
     },
     "metadata": {},
     "output_type": "display_data"
    }
   ],
   "source": [
    "outliers = detect_outliers_with_interquantile_range(bank_client, 'age', 10, 90)"
   ]
  },
  {
   "cell_type": "markdown",
   "metadata": {
    "id": "PN-ypxmiysZv"
   },
   "source": [
    "**Висновки з завдання 5 (детальні)**"
   ]
  },
  {
   "cell_type": "markdown",
   "metadata": {
    "id": "vJzhjPQ_ysZv"
   },
   "source": [
    "1.   \n",
    "2.   \n",
    "3. ..."
   ]
  },
  {
   "cell_type": "markdown",
   "metadata": {
    "id": "llohM2tDysZv"
   },
   "source": [
    "**Завдання 6** Аналіз атрибутів `job`, `marital` та `education`:  \n",
    "- Побудувати графіки розподілу даних по цим змінним."
   ]
  },
  {
   "cell_type": "code",
   "execution_count": 503,
   "metadata": {
    "id": "Srz_q9wSysZw"
   },
   "outputs": [
    {
     "data": {
      "image/png": "[encoded data removed]",
      "text/plain": [
       "<Figure size 640x480 with 1 Axes>"
      ]
     },
     "metadata": {},
     "output_type": "display_data"
    }
   ],
   "source": [
    "sns.histplot(dataset,x='job',palette='magma')\n",
    "plt.xticks(rotation=50)\n",
    "plt.show()"
   ]
  },
  {
   "cell_type": "code",
   "execution_count": 504,
   "metadata": {
    "id": "X8IXg3ZEysZw"
   },
   "outputs": [
    {
     "data": {
      "image/png": "[encoded data removed]",
      "text/plain": [
       "<Figure size 640x480 with 1 Axes>"
      ]
     },
     "metadata": {},
     "output_type": "display_data"
    }
   ],
   "source": [
    "sns.histplot(dataset,x='marital',palette='magma')\n",
    "plt.xticks(rotation=50)\n",
    "plt.show()"
   ]
  },
  {
   "cell_type": "code",
   "execution_count": 505,
   "metadata": {
    "id": "CpmtGSyAysZw"
   },
   "outputs": [
    {
     "data": {
      "image/png": "[encoded data removed]",
      "text/plain": [
       "<Figure size 640x480 with 1 Axes>"
      ]
     },
     "metadata": {},
     "output_type": "display_data"
    }
   ],
   "source": [
    "sns.histplot(dataset,x='education',palette='magma')\n",
    "plt.xticks(rotation=50)\n",
    "plt.show()"
   ]
  },
  {
   "cell_type": "markdown",
   "metadata": {
    "id": "_HoSeGyxysZw"
   },
   "source": [
    "**Висновки з завдання 6 (детальні)**"
   ]
  },
  {
   "cell_type": "markdown",
   "metadata": {
    "id": "ED3cGHeVysZw"
   },
   "source": [
    "1.   \n",
    "2.   \n",
    "3. ..."
   ]
  },
  {
   "cell_type": "markdown",
   "metadata": {
    "id": "jw3sXGn5ysZw"
   },
   "source": [
    "**Завдання 7** Аналіз атрибутів `default`, `housing` та `loan`:  \n",
    "- Побудувати графіки розподілу даних по цим змінним."
   ]
  },
  {
   "cell_type": "code",
   "execution_count": 506,
   "metadata": {
    "id": "ZY9DAx6jysZx"
   },
   "outputs": [
    {
     "data": {
      "image/png": "[encoded data removed]",
      "text/plain": [
       "<Figure size 640x480 with 1 Axes>"
      ]
     },
     "metadata": {},
     "output_type": "display_data"
    }
   ],
   "source": [
    "sns.histplot(dataset,x='default',palette='magma')\n",
    "plt.xticks(rotation=50)\n",
    "plt.show()"
   ]
  },
  {
   "cell_type": "code",
   "execution_count": 507,
   "metadata": {
    "id": "Ak_0-1PxysZx"
   },
   "outputs": [
    {
     "data": {
      "image/png": "[encoded data removed]",
      "text/plain": [
       "<Figure size 640x480 with 1 Axes>"
      ]
     },
     "metadata": {},
     "output_type": "display_data"
    }
   ],
   "source": [
    "sns.histplot(dataset,x='housing',palette='magma')\n",
    "plt.xticks(rotation=50)\n",
    "plt.show()"
   ]
  },
  {
   "cell_type": "code",
   "execution_count": 508,
   "metadata": {
    "id": "NDArycEQysZx"
   },
   "outputs": [
    {
     "data": {
      "image/png": "[encoded data removed]",
      "text/plain": [
       "<Figure size 640x480 with 1 Axes>"
      ]
     },
     "metadata": {},
     "output_type": "display_data"
    }
   ],
   "source": [
    "sns.histplot(dataset,x='loan',palette='magma')\n",
    "plt.xticks(rotation=50)\n",
    "plt.show()"
   ]
  },
  {
   "cell_type": "markdown",
   "metadata": {
    "id": "wYtREfcJysZx"
   },
   "source": [
    "**Завдання 8** Змінні **Jobs, Marital, Education, Default, Housing, Loan** трансформувати в неперервні змінні:"
   ]
  },
  {
   "cell_type": "code",
   "execution_count": 509,
   "metadata": {
    "id": "Wsg4TFQzysZx"
   },
   "outputs": [],
   "source": [
    "def encode_categorical_columns(df: pd.DataFrame, categorical_cols: list) -> pd.DataFrame:\n",
    "    \"\"\"\n",
    "    Function for encoding categorical features using LabelEncoder\n",
    "    \n",
    "    df: pd.DataFrame to encode\n",
    "    categorical_cols: specified columns to encode\n",
    "    \n",
    "    returns: pd.DataFrame with encoded values\n",
    "    \"\"\"\n",
    "    for col in categorical_cols:\n",
    "      # Leaves NaN as it is.\n",
    "        le = LabelEncoder()\n",
    "        not_null = df[col][df[col].notnull()]\n",
    "        df[col] = le.fit_transform(not_null)\n",
    "      \n",
    "    return df"
   ]
  },
  {
   "cell_type": "code",
   "execution_count": 510,
   "metadata": {
    "id": "pInQzFcxysZx"
   },
   "outputs": [],
   "source": [
    "bank_client = encode_categorical_columns(bank_client, ['job', 'marital', 'education', 'default', 'housing',  'loan'])"
   ]
  },
  {
   "cell_type": "markdown",
   "metadata": {
    "id": "qY0ybijaysZy"
   },
   "source": [
    "**Завдання 9** Трансфомувати змінну **Age** (використовуючи її квартильні значення):\n",
    "\n",
    "\n"
   ]
  },
  {
   "cell_type": "code",
   "execution_count": 511,
   "metadata": {
    "id": "jKCNuX1YysZy"
   },
   "outputs": [],
   "source": [
    "def encode_age(dataframe: pd.DataFrame, age_col: str ) -> pd.DataFrame:\n",
    "  \"\"\"\n",
    "  Function for encoding age column\n",
    "    \n",
    "  df: pd.DataFrame to encode\n",
    "  age_col: age col to encode \n",
    "  \"\"\"\n",
    "  dataframe['age_category'] = pd.qcut(dataframe[age_col], q=4,labels=[0, 1, 2, 3])\n",
    "          \n",
    "  return dataframe"
   ]
  },
  {
   "cell_type": "code",
   "execution_count": 512,
   "metadata": {
    "id": "FexEyw5BysZy"
   },
   "outputs": [],
   "source": [
    "bank_client = encode_age(bank_client, 'age')"
   ]
  },
  {
   "cell_type": "markdown",
   "metadata": {
    "id": "9F2SI64JysZy"
   },
   "source": [
    "**Висновки з завдання 9 (детальні)** перевірити як відбулося перетворення змінних"
   ]
  },
  {
   "cell_type": "markdown",
   "metadata": {
    "id": "U32QZJAeysZy"
   },
   "source": [
    "## Вибірка містить певну кількість атрибутів, які характеризують останій зв'язок кліентів з банком"
   ]
  },
  {
   "cell_type": "markdown",
   "metadata": {
    "id": "gzxtGoEiysZy"
   },
   "source": [
    "**Завдання 10** Виділити в окремий датафрейм змінні, які характеризують зв'язок клієнтів з банком;\n",
    "- вивести цей датафрейм;\n",
    "- перевірити ці змінні на `NaN`."
   ]
  },
  {
   "cell_type": "code",
   "execution_count": 513,
   "metadata": {
    "id": "p0zB5zHeysZy"
   },
   "outputs": [
    {
     "name": "stdout",
     "output_type": "stream",
     "text": [
      "         contact month day_of_week  duration\n",
      "0      telephone   may         mon       261\n",
      "1      telephone   may         mon       149\n",
      "2      telephone   may         mon       226\n",
      "3      telephone   may         mon       151\n",
      "4      telephone   may         mon       307\n",
      "...          ...   ...         ...       ...\n",
      "41183   cellular   nov         fri       334\n",
      "41184   cellular   nov         fri       383\n",
      "41185   cellular   nov         fri       189\n",
      "41186   cellular   nov         fri       442\n",
      "41187   cellular   nov         fri       239\n",
      "\n",
      "[41188 rows x 4 columns]\n",
      "nun values in bank client:\n",
      "age             0\n",
      "job             0\n",
      "marital         0\n",
      "education       0\n",
      "default         0\n",
      "housing         0\n",
      "loan            0\n",
      "age_category    0\n",
      "dtype: int64\n"
     ]
    }
   ],
   "source": [
    "bank_relat = dataset.loc[:,['contact', 'month', 'day_of_week', 'duration']]\n",
    "print(bank_relat)\n",
    "nan_values = bank_client.isnull().sum()\n",
    "print(f'nun values in bank client:\\n{nan_values}')"
   ]
  },
  {
   "cell_type": "markdown",
   "metadata": {
    "id": "Axa42bVcysZz"
   },
   "source": [
    "**Завдання 11** вивести унікальні значення, які містять атрибути `contact`, `month`, `day_of_week`"
   ]
  },
  {
   "cell_type": "code",
   "execution_count": 514,
   "metadata": {
    "id": "YesBNZfIysZz"
   },
   "outputs": [
    {
     "data": {
      "text/plain": [
       "array(['telephone', 'cellular'], dtype=object)"
      ]
     },
     "execution_count": 514,
     "metadata": {},
     "output_type": "execute_result"
    }
   ],
   "source": [
    "bank_relat.contact.unique()"
   ]
  },
  {
   "cell_type": "code",
   "execution_count": 515,
   "metadata": {},
   "outputs": [
    {
     "data": {
      "text/plain": [
       "array(['may', 'jun', 'jul', 'aug', 'oct', 'nov', 'dec', 'mar', 'apr',\n",
       "       'sep'], dtype=object)"
      ]
     },
     "execution_count": 515,
     "metadata": {},
     "output_type": "execute_result"
    }
   ],
   "source": [
    "bank_relat.month.unique()"
   ]
  },
  {
   "cell_type": "code",
   "execution_count": 516,
   "metadata": {},
   "outputs": [
    {
     "data": {
      "text/plain": [
       "array(['mon', 'tue', 'wed', 'thu', 'fri'], dtype=object)"
      ]
     },
     "execution_count": 516,
     "metadata": {},
     "output_type": "execute_result"
    }
   ],
   "source": [
    "bank_relat.day_of_week.unique()"
   ]
  },
  {
   "cell_type": "markdown",
   "metadata": {
    "id": "6fFzX2raysZz"
   },
   "source": [
    "# Провести аналіз змінної **Duration**"
   ]
  },
  {
   "cell_type": "markdown",
   "metadata": {
    "id": "YiP7F-TAysZz"
   },
   "source": [
    "змінна ` duration` містить інформацію про тривалість останнього дзвінка, в секундах (числова). Важливе зауваження: цей атрибут сильно впливає на цільову змінну (наприклад, якщо тривалість = 0, тоді y = \"ні\"). Проте тривалість невідома до здійснення дзвінка. Крім того, після закінчення дзвінка y, очевидно, відомо. Таким чином, цей внесок слід включати лише для цілей порівняльних показників і відкидати, якщо метою є реалістична модель прогнозування."
   ]
  },
  {
   "cell_type": "markdown",
   "metadata": {
    "id": "VH7T1BCsysZz"
   },
   "source": [
    "**Завдання 12** Аналіз атрибуту `duration`:  \n",
    "\n",
    "Провести візуальний аналіз зміної `duration`:  \n",
    "\n",
    "\n",
    "*   побудувати  `boxplot` та `distplot`; \n",
    "*   перевірити розподіл по змінній `duration` на важкі хвости. \n",
    "\n"
   ]
  },
  {
   "cell_type": "code",
   "execution_count": 517,
   "metadata": {
    "id": "0ijoio2zysZz"
   },
   "outputs": [
    {
     "data": {
      "text/plain": [
       "<seaborn.axisgrid.FacetGrid at 0x12b714b90>"
      ]
     },
     "execution_count": 517,
     "metadata": {},
     "output_type": "execute_result"
    },
    {
     "data": {
      "image/png": "[encoded data removed]",
      "text/plain": [
       "<Figure size 1700x1100 with 2 Axes>"
      ]
     },
     "metadata": {},
     "output_type": "display_data"
    },
    {
     "data": {
      "image/png": "[encoded data removed]",
      "text/plain": [
       "<Figure size 500x500 with 1 Axes>"
      ]
     },
     "metadata": {},
     "output_type": "display_data"
    }
   ],
   "source": [
    "fig, axes = plt.subplots(ncols=2, figsize=(17, 11))\n",
    "sns.boxplot(dataset,x='duration', palette='magma', ax=axes[0])\n",
    "sns.displot(dataset['duration'], kde=True, bins=30, color='blue',ax=axes[1])"
   ]
  },
  {
   "cell_type": "markdown",
   "metadata": {
    "id": "PQJ5TJgjysZ0"
   },
   "source": [
    "**Завдання 13** Закодувати змінні Contact, Month, Day of Week (використовуйте функцію `encode_categorical_columns()`)"
   ]
  },
  {
   "cell_type": "code",
   "execution_count": 518,
   "metadata": {
    "id": "thp8iB4bysZ0"
   },
   "outputs": [],
   "source": [
    "categor_col = ['contact','month','day_of_week']\n",
    "bank_relat = encode_categorical_columns(bank_relat,categor_col)"
   ]
  },
  {
   "cell_type": "markdown",
   "metadata": {
    "id": "56q7Ok-rysZ0"
   },
   "source": [
    "**Завдання 14** Трансфомувати змінну **duration**, використовуючи її квартильні значення:"
   ]
  },
  {
   "cell_type": "code",
   "execution_count": 519,
   "metadata": {
    "id": "wxwc4i-aysZ0"
   },
   "outputs": [],
   "source": [
    "def encode_duration(dataframe: pd.DataFrame, duration_col: str ) -> pd.DataFrame:\n",
    "  \"\"\"\n",
    "  Function for encoding duration column\n",
    "    \n",
    "  df: pd.DataFrame to encode\n",
    "  duration_col: duration col to encode \n",
    "  \"\"\"\n",
    "  dataframe[duration_col] = pd.qcut(dataframe[duration_col], q=4,labels=[0, 1, 2 ,3, ])\n",
    "          \n",
    "  return dataframe"
   ]
  },
  {
   "cell_type": "code",
   "execution_count": 520,
   "metadata": {
    "id": "yGlDw6uGysZ0"
   },
   "outputs": [],
   "source": [
    "bank_relat = encode_duration(bank_relat, 'duration')"
   ]
  },
  {
   "cell_type": "markdown",
   "metadata": {
    "id": "09lfy5MvysZ0"
   },
   "source": [
    "## Провести аналіз атрибутів **соціального та економічного контексту**"
   ]
  },
  {
   "cell_type": "markdown",
   "metadata": {
    "id": "SnUz68opysZ1"
   },
   "source": [
    "**Завдання 15** Виділити в окремий датафрейм атрибути соціального та єкономічного контексту"
   ]
  },
  {
   "cell_type": "code",
   "execution_count": 521,
   "metadata": {
    "id": "Iag7Z_6eysZ1"
   },
   "outputs": [
    {
     "data": {
      "text/html": [
       "<div>\n",
       "<style scoped>\n",
       "    .dataframe tbody tr th:only-of-type {\n",
       "        vertical-align: middle;\n",
       "    }\n",
       "\n",
       "    .dataframe tbody tr th {\n",
       "        vertical-align: top;\n",
       "    }\n",
       "\n",
       "    .dataframe thead th {\n",
       "        text-align: right;\n",
       "    }\n",
       "</style>\n",
       "<table border=\"1\" class=\"dataframe\">\n",
       "  <thead>\n",
       "    <tr style=\"text-align: right;\">\n",
       "      <th></th>\n",
       "      <th>emp.var.rate</th>\n",
       "      <th>cons.price.idx</th>\n",
       "      <th>cons.conf.idx</th>\n",
       "      <th>euribor3m</th>\n",
       "      <th>nr.employed</th>\n",
       "    </tr>\n",
       "  </thead>\n",
       "  <tbody>\n",
       "    <tr>\n",
       "      <th>0</th>\n",
       "      <td>1.1</td>\n",
       "      <td>93.994</td>\n",
       "      <td>-36.4</td>\n",
       "      <td>4.857</td>\n",
       "      <td>5191.0</td>\n",
       "    </tr>\n",
       "    <tr>\n",
       "      <th>1</th>\n",
       "      <td>1.1</td>\n",
       "      <td>93.994</td>\n",
       "      <td>-36.4</td>\n",
       "      <td>4.857</td>\n",
       "      <td>5191.0</td>\n",
       "    </tr>\n",
       "    <tr>\n",
       "      <th>2</th>\n",
       "      <td>1.1</td>\n",
       "      <td>93.994</td>\n",
       "      <td>-36.4</td>\n",
       "      <td>4.857</td>\n",
       "      <td>5191.0</td>\n",
       "    </tr>\n",
       "    <tr>\n",
       "      <th>3</th>\n",
       "      <td>1.1</td>\n",
       "      <td>93.994</td>\n",
       "      <td>-36.4</td>\n",
       "      <td>4.857</td>\n",
       "      <td>5191.0</td>\n",
       "    </tr>\n",
       "    <tr>\n",
       "      <th>4</th>\n",
       "      <td>1.1</td>\n",
       "      <td>93.994</td>\n",
       "      <td>-36.4</td>\n",
       "      <td>4.857</td>\n",
       "      <td>5191.0</td>\n",
       "    </tr>\n",
       "    <tr>\n",
       "      <th>...</th>\n",
       "      <td>...</td>\n",
       "      <td>...</td>\n",
       "      <td>...</td>\n",
       "      <td>...</td>\n",
       "      <td>...</td>\n",
       "    </tr>\n",
       "    <tr>\n",
       "      <th>41183</th>\n",
       "      <td>-1.1</td>\n",
       "      <td>94.767</td>\n",
       "      <td>-50.8</td>\n",
       "      <td>1.028</td>\n",
       "      <td>4963.6</td>\n",
       "    </tr>\n",
       "    <tr>\n",
       "      <th>41184</th>\n",
       "      <td>-1.1</td>\n",
       "      <td>94.767</td>\n",
       "      <td>-50.8</td>\n",
       "      <td>1.028</td>\n",
       "      <td>4963.6</td>\n",
       "    </tr>\n",
       "    <tr>\n",
       "      <th>41185</th>\n",
       "      <td>-1.1</td>\n",
       "      <td>94.767</td>\n",
       "      <td>-50.8</td>\n",
       "      <td>1.028</td>\n",
       "      <td>4963.6</td>\n",
       "    </tr>\n",
       "    <tr>\n",
       "      <th>41186</th>\n",
       "      <td>-1.1</td>\n",
       "      <td>94.767</td>\n",
       "      <td>-50.8</td>\n",
       "      <td>1.028</td>\n",
       "      <td>4963.6</td>\n",
       "    </tr>\n",
       "    <tr>\n",
       "      <th>41187</th>\n",
       "      <td>-1.1</td>\n",
       "      <td>94.767</td>\n",
       "      <td>-50.8</td>\n",
       "      <td>1.028</td>\n",
       "      <td>4963.6</td>\n",
       "    </tr>\n",
       "  </tbody>\n",
       "</table>\n",
       "<p>41188 rows × 5 columns</p>\n",
       "</div>"
      ],
      "text/plain": [
       "       emp.var.rate  cons.price.idx  cons.conf.idx  euribor3m  nr.employed\n",
       "0               1.1          93.994          -36.4      4.857       5191.0\n",
       "1               1.1          93.994          -36.4      4.857       5191.0\n",
       "2               1.1          93.994          -36.4      4.857       5191.0\n",
       "3               1.1          93.994          -36.4      4.857       5191.0\n",
       "4               1.1          93.994          -36.4      4.857       5191.0\n",
       "...             ...             ...            ...        ...          ...\n",
       "41183          -1.1          94.767          -50.8      1.028       4963.6\n",
       "41184          -1.1          94.767          -50.8      1.028       4963.6\n",
       "41185          -1.1          94.767          -50.8      1.028       4963.6\n",
       "41186          -1.1          94.767          -50.8      1.028       4963.6\n",
       "41187          -1.1          94.767          -50.8      1.028       4963.6\n",
       "\n",
       "[41188 rows x 5 columns]"
      ]
     },
     "execution_count": 521,
     "metadata": {},
     "output_type": "execute_result"
    }
   ],
   "source": [
    "bank_socec = dataset.loc[:,['emp.var.rate','cons.price.idx','cons.conf.idx','euribor3m','nr.employed']]\n",
    "bank_socec"
   ]
  },
  {
   "cell_type": "markdown",
   "metadata": {
    "id": "yPtBjoemysZ1"
   },
   "source": [
    "**Завдання 16** Виділити в окремий датафрейм всі інші атрибути атрибути - `campaign`, `pdays`,`previous`, `poutcome`"
   ]
  },
  {
   "cell_type": "code",
   "execution_count": 522,
   "metadata": {
    "id": "tcTvIR9xysZ3"
   },
   "outputs": [],
   "source": [
    "bank_other = dataset.loc[:,['campaign','pdays','previous','poutcome']]"
   ]
  },
  {
   "cell_type": "markdown",
   "metadata": {
    "id": "hf9tgwqRysZ3"
   },
   "source": [
    "**Завдання 17** Провести трансформацію атрибуту `poutcome`"
   ]
  },
  {
   "cell_type": "code",
   "execution_count": 523,
   "metadata": {
    "id": "nUVUzdq1ysZ3"
   },
   "outputs": [],
   "source": [
    "bank_other['poutcome'] = bank_other['poutcome'].map({\"success\": 1, \"failure\": 2, \"nonexistent\": 3})"
   ]
  },
  {
   "cell_type": "markdown",
   "metadata": {
    "id": "-E2GpdBKysZ4"
   },
   "source": [
    "## Будування моделей класифікації"
   ]
  },
  {
   "cell_type": "markdown",
   "metadata": {
    "id": "HZ6ZNGtvysZ4"
   },
   "source": [
    "**Завдання 18** З'єднати всі отримані блоки в один датафрейм і перевірити, що він містить тільки потрібні для моделювання колонки"
   ]
  },
  {
   "cell_type": "code",
   "execution_count": 524,
   "metadata": {
    "id": "y6gbsEk2ysZ4"
   },
   "outputs": [
    {
     "data": {
      "text/html": [
       "<div>\n",
       "<style scoped>\n",
       "    .dataframe tbody tr th:only-of-type {\n",
       "        vertical-align: middle;\n",
       "    }\n",
       "\n",
       "    .dataframe tbody tr th {\n",
       "        vertical-align: top;\n",
       "    }\n",
       "\n",
       "    .dataframe thead th {\n",
       "        text-align: right;\n",
       "    }\n",
       "</style>\n",
       "<table border=\"1\" class=\"dataframe\">\n",
       "  <thead>\n",
       "    <tr style=\"text-align: right;\">\n",
       "      <th></th>\n",
       "      <th>age</th>\n",
       "      <th>job</th>\n",
       "      <th>marital</th>\n",
       "      <th>education</th>\n",
       "      <th>default</th>\n",
       "      <th>housing</th>\n",
       "      <th>loan</th>\n",
       "      <th>age_category</th>\n",
       "      <th>contact</th>\n",
       "      <th>month</th>\n",
       "      <th>...</th>\n",
       "      <th>duration</th>\n",
       "      <th>campaign</th>\n",
       "      <th>pdays</th>\n",
       "      <th>previous</th>\n",
       "      <th>poutcome</th>\n",
       "      <th>emp.var.rate</th>\n",
       "      <th>cons.price.idx</th>\n",
       "      <th>cons.conf.idx</th>\n",
       "      <th>euribor3m</th>\n",
       "      <th>nr.employed</th>\n",
       "    </tr>\n",
       "  </thead>\n",
       "  <tbody>\n",
       "    <tr>\n",
       "      <th>0</th>\n",
       "      <td>56</td>\n",
       "      <td>3</td>\n",
       "      <td>1</td>\n",
       "      <td>0</td>\n",
       "      <td>0</td>\n",
       "      <td>0</td>\n",
       "      <td>0</td>\n",
       "      <td>3</td>\n",
       "      <td>1</td>\n",
       "      <td>6</td>\n",
       "      <td>...</td>\n",
       "      <td>2</td>\n",
       "      <td>1</td>\n",
       "      <td>999</td>\n",
       "      <td>0</td>\n",
       "      <td>3</td>\n",
       "      <td>1.1</td>\n",
       "      <td>93.994</td>\n",
       "      <td>-36.4</td>\n",
       "      <td>4.857</td>\n",
       "      <td>5191.0</td>\n",
       "    </tr>\n",
       "    <tr>\n",
       "      <th>1</th>\n",
       "      <td>57</td>\n",
       "      <td>7</td>\n",
       "      <td>1</td>\n",
       "      <td>3</td>\n",
       "      <td>1</td>\n",
       "      <td>0</td>\n",
       "      <td>0</td>\n",
       "      <td>3</td>\n",
       "      <td>1</td>\n",
       "      <td>6</td>\n",
       "      <td>...</td>\n",
       "      <td>1</td>\n",
       "      <td>1</td>\n",
       "      <td>999</td>\n",
       "      <td>0</td>\n",
       "      <td>3</td>\n",
       "      <td>1.1</td>\n",
       "      <td>93.994</td>\n",
       "      <td>-36.4</td>\n",
       "      <td>4.857</td>\n",
       "      <td>5191.0</td>\n",
       "    </tr>\n",
       "    <tr>\n",
       "      <th>2</th>\n",
       "      <td>37</td>\n",
       "      <td>7</td>\n",
       "      <td>1</td>\n",
       "      <td>3</td>\n",
       "      <td>0</td>\n",
       "      <td>2</td>\n",
       "      <td>0</td>\n",
       "      <td>1</td>\n",
       "      <td>1</td>\n",
       "      <td>6</td>\n",
       "      <td>...</td>\n",
       "      <td>2</td>\n",
       "      <td>1</td>\n",
       "      <td>999</td>\n",
       "      <td>0</td>\n",
       "      <td>3</td>\n",
       "      <td>1.1</td>\n",
       "      <td>93.994</td>\n",
       "      <td>-36.4</td>\n",
       "      <td>4.857</td>\n",
       "      <td>5191.0</td>\n",
       "    </tr>\n",
       "    <tr>\n",
       "      <th>3</th>\n",
       "      <td>40</td>\n",
       "      <td>0</td>\n",
       "      <td>1</td>\n",
       "      <td>1</td>\n",
       "      <td>0</td>\n",
       "      <td>0</td>\n",
       "      <td>0</td>\n",
       "      <td>2</td>\n",
       "      <td>1</td>\n",
       "      <td>6</td>\n",
       "      <td>...</td>\n",
       "      <td>1</td>\n",
       "      <td>1</td>\n",
       "      <td>999</td>\n",
       "      <td>0</td>\n",
       "      <td>3</td>\n",
       "      <td>1.1</td>\n",
       "      <td>93.994</td>\n",
       "      <td>-36.4</td>\n",
       "      <td>4.857</td>\n",
       "      <td>5191.0</td>\n",
       "    </tr>\n",
       "    <tr>\n",
       "      <th>4</th>\n",
       "      <td>56</td>\n",
       "      <td>7</td>\n",
       "      <td>1</td>\n",
       "      <td>3</td>\n",
       "      <td>0</td>\n",
       "      <td>0</td>\n",
       "      <td>2</td>\n",
       "      <td>3</td>\n",
       "      <td>1</td>\n",
       "      <td>6</td>\n",
       "      <td>...</td>\n",
       "      <td>2</td>\n",
       "      <td>1</td>\n",
       "      <td>999</td>\n",
       "      <td>0</td>\n",
       "      <td>3</td>\n",
       "      <td>1.1</td>\n",
       "      <td>93.994</td>\n",
       "      <td>-36.4</td>\n",
       "      <td>4.857</td>\n",
       "      <td>5191.0</td>\n",
       "    </tr>\n",
       "    <tr>\n",
       "      <th>...</th>\n",
       "      <td>...</td>\n",
       "      <td>...</td>\n",
       "      <td>...</td>\n",
       "      <td>...</td>\n",
       "      <td>...</td>\n",
       "      <td>...</td>\n",
       "      <td>...</td>\n",
       "      <td>...</td>\n",
       "      <td>...</td>\n",
       "      <td>...</td>\n",
       "      <td>...</td>\n",
       "      <td>...</td>\n",
       "      <td>...</td>\n",
       "      <td>...</td>\n",
       "      <td>...</td>\n",
       "      <td>...</td>\n",
       "      <td>...</td>\n",
       "      <td>...</td>\n",
       "      <td>...</td>\n",
       "      <td>...</td>\n",
       "      <td>...</td>\n",
       "    </tr>\n",
       "    <tr>\n",
       "      <th>41183</th>\n",
       "      <td>73</td>\n",
       "      <td>5</td>\n",
       "      <td>1</td>\n",
       "      <td>5</td>\n",
       "      <td>0</td>\n",
       "      <td>2</td>\n",
       "      <td>0</td>\n",
       "      <td>3</td>\n",
       "      <td>0</td>\n",
       "      <td>7</td>\n",
       "      <td>...</td>\n",
       "      <td>3</td>\n",
       "      <td>1</td>\n",
       "      <td>999</td>\n",
       "      <td>0</td>\n",
       "      <td>3</td>\n",
       "      <td>-1.1</td>\n",
       "      <td>94.767</td>\n",
       "      <td>-50.8</td>\n",
       "      <td>1.028</td>\n",
       "      <td>4963.6</td>\n",
       "    </tr>\n",
       "    <tr>\n",
       "      <th>41184</th>\n",
       "      <td>46</td>\n",
       "      <td>1</td>\n",
       "      <td>1</td>\n",
       "      <td>5</td>\n",
       "      <td>0</td>\n",
       "      <td>0</td>\n",
       "      <td>0</td>\n",
       "      <td>2</td>\n",
       "      <td>0</td>\n",
       "      <td>7</td>\n",
       "      <td>...</td>\n",
       "      <td>3</td>\n",
       "      <td>1</td>\n",
       "      <td>999</td>\n",
       "      <td>0</td>\n",
       "      <td>3</td>\n",
       "      <td>-1.1</td>\n",
       "      <td>94.767</td>\n",
       "      <td>-50.8</td>\n",
       "      <td>1.028</td>\n",
       "      <td>4963.6</td>\n",
       "    </tr>\n",
       "    <tr>\n",
       "      <th>41185</th>\n",
       "      <td>56</td>\n",
       "      <td>5</td>\n",
       "      <td>1</td>\n",
       "      <td>6</td>\n",
       "      <td>0</td>\n",
       "      <td>2</td>\n",
       "      <td>0</td>\n",
       "      <td>3</td>\n",
       "      <td>0</td>\n",
       "      <td>7</td>\n",
       "      <td>...</td>\n",
       "      <td>2</td>\n",
       "      <td>2</td>\n",
       "      <td>999</td>\n",
       "      <td>0</td>\n",
       "      <td>3</td>\n",
       "      <td>-1.1</td>\n",
       "      <td>94.767</td>\n",
       "      <td>-50.8</td>\n",
       "      <td>1.028</td>\n",
       "      <td>4963.6</td>\n",
       "    </tr>\n",
       "    <tr>\n",
       "      <th>41186</th>\n",
       "      <td>44</td>\n",
       "      <td>9</td>\n",
       "      <td>1</td>\n",
       "      <td>5</td>\n",
       "      <td>0</td>\n",
       "      <td>0</td>\n",
       "      <td>0</td>\n",
       "      <td>2</td>\n",
       "      <td>0</td>\n",
       "      <td>7</td>\n",
       "      <td>...</td>\n",
       "      <td>3</td>\n",
       "      <td>1</td>\n",
       "      <td>999</td>\n",
       "      <td>0</td>\n",
       "      <td>3</td>\n",
       "      <td>-1.1</td>\n",
       "      <td>94.767</td>\n",
       "      <td>-50.8</td>\n",
       "      <td>1.028</td>\n",
       "      <td>4963.6</td>\n",
       "    </tr>\n",
       "    <tr>\n",
       "      <th>41187</th>\n",
       "      <td>74</td>\n",
       "      <td>5</td>\n",
       "      <td>1</td>\n",
       "      <td>5</td>\n",
       "      <td>0</td>\n",
       "      <td>2</td>\n",
       "      <td>0</td>\n",
       "      <td>3</td>\n",
       "      <td>0</td>\n",
       "      <td>7</td>\n",
       "      <td>...</td>\n",
       "      <td>2</td>\n",
       "      <td>3</td>\n",
       "      <td>999</td>\n",
       "      <td>1</td>\n",
       "      <td>2</td>\n",
       "      <td>-1.1</td>\n",
       "      <td>94.767</td>\n",
       "      <td>-50.8</td>\n",
       "      <td>1.028</td>\n",
       "      <td>4963.6</td>\n",
       "    </tr>\n",
       "  </tbody>\n",
       "</table>\n",
       "<p>41188 rows × 21 columns</p>\n",
       "</div>"
      ],
      "text/plain": [
       "       age  job  marital  education  default  housing  loan age_category  \\\n",
       "0       56    3        1          0        0        0     0            3   \n",
       "1       57    7        1          3        1        0     0            3   \n",
       "2       37    7        1          3        0        2     0            1   \n",
       "3       40    0        1          1        0        0     0            2   \n",
       "4       56    7        1          3        0        0     2            3   \n",
       "...    ...  ...      ...        ...      ...      ...   ...          ...   \n",
       "41183   73    5        1          5        0        2     0            3   \n",
       "41184   46    1        1          5        0        0     0            2   \n",
       "41185   56    5        1          6        0        2     0            3   \n",
       "41186   44    9        1          5        0        0     0            2   \n",
       "41187   74    5        1          5        0        2     0            3   \n",
       "\n",
       "       contact  month  ...  duration campaign  pdays  previous  poutcome  \\\n",
       "0            1      6  ...         2        1    999         0         3   \n",
       "1            1      6  ...         1        1    999         0         3   \n",
       "2            1      6  ...         2        1    999         0         3   \n",
       "3            1      6  ...         1        1    999         0         3   \n",
       "4            1      6  ...         2        1    999         0         3   \n",
       "...        ...    ...  ...       ...      ...    ...       ...       ...   \n",
       "41183        0      7  ...         3        1    999         0         3   \n",
       "41184        0      7  ...         3        1    999         0         3   \n",
       "41185        0      7  ...         2        2    999         0         3   \n",
       "41186        0      7  ...         3        1    999         0         3   \n",
       "41187        0      7  ...         2        3    999         1         2   \n",
       "\n",
       "       emp.var.rate  cons.price.idx  cons.conf.idx  euribor3m  nr.employed  \n",
       "0               1.1          93.994          -36.4      4.857       5191.0  \n",
       "1               1.1          93.994          -36.4      4.857       5191.0  \n",
       "2               1.1          93.994          -36.4      4.857       5191.0  \n",
       "3               1.1          93.994          -36.4      4.857       5191.0  \n",
       "4               1.1          93.994          -36.4      4.857       5191.0  \n",
       "...             ...             ...            ...        ...          ...  \n",
       "41183          -1.1          94.767          -50.8      1.028       4963.6  \n",
       "41184          -1.1          94.767          -50.8      1.028       4963.6  \n",
       "41185          -1.1          94.767          -50.8      1.028       4963.6  \n",
       "41186          -1.1          94.767          -50.8      1.028       4963.6  \n",
       "41187          -1.1          94.767          -50.8      1.028       4963.6  \n",
       "\n",
       "[41188 rows x 21 columns]"
      ]
     },
     "execution_count": 524,
     "metadata": {},
     "output_type": "execute_result"
    }
   ],
   "source": [
    "bank_final=pd.concat([bank_client,bank_relat,bank_other,bank_socec],axis=1)\n",
    "bank_final"
   ]
  },
  {
   "cell_type": "markdown",
   "metadata": {
    "id": "_AwD8ZiBysZ4"
   },
   "source": [
    "**Завдання 19** Провести ділення вибірки"
   ]
  },
  {
   "cell_type": "code",
   "execution_count": 525,
   "metadata": {
    "id": "RZhPJcZ4ysZ5"
   },
   "outputs": [],
   "source": [
    "def prepare_data_for_training(X: pd.DataFrame,\n",
    "                              target: pd.Series,\n",
    "                              test_size: float,\n",
    "                              n_splits: int,\n",
    "                              random_state: int):\n",
    "    \"\"\"\n",
    "    Function that prepares data for training. Splits the data into train and test datasets and get k-folds for cross-validation\n",
    "\n",
    "    X: pd.DataFrame with features\n",
    "    target: target pd.Series\n",
    "    test_size: the size of test datasets\n",
    "    n_splits: number of cross-validation splits\n",
    "    random_state: random state to reproduce the same split\n",
    "\n",
    "    returns: X_train, X_test, y_train, y_test, k_fold\n",
    "    \"\"\"\n",
    "\n",
    "    X_train, X_test, y_train, y_test =  train_test_split(X, target, test_size=test_size, random_state=random_state, shuffle=True)\n",
    "\n",
    "    k_fold = KFold(n_splits=n_splits, shuffle=True, random_state=random_state)\n",
    "\n",
    "    return X_train, X_test, y_train, y_test, k_fold"
   ]
  },
  {
   "cell_type": "code",
   "execution_count": 526,
   "metadata": {
    "id": "1rj6PXqfysZ5"
   },
   "outputs": [],
   "source": [
    "X_train, X_test, y_train, y_test, k_fold = prepare_data_for_training(bank_final, bank_target, 0.2, 10, 101)"
   ]
  },
  {
   "cell_type": "code",
   "execution_count": 527,
   "metadata": {
    "id": "Zx4lCwm3ysZ6"
   },
   "outputs": [],
   "source": [
    "def scale_the_data(X_train: pd.DataFrame, \n",
    "                   X_test: pd.DataFrame):\n",
    "  \n",
    "  sc_X = StandardScaler()\n",
    "  X_train = sc_X.fit_transform(X_train)\n",
    "  X_test = sc_X.transform(X_test)\n",
    "\n",
    "  return X_train, X_test"
   ]
  },
  {
   "cell_type": "code",
   "execution_count": 528,
   "metadata": {
    "id": "v3ypxy96As9J"
   },
   "outputs": [],
   "source": [
    "X_train, X_test = scale_the_data(X_train, X_test)"
   ]
  },
  {
   "cell_type": "markdown",
   "metadata": {},
   "source": [
    "## Логістична Регресія"
   ]
  },
  {
   "cell_type": "code",
   "execution_count": 529,
   "metadata": {
    "id": "TZBcy1C3ysZ6"
   },
   "outputs": [
    {
     "name": "stdout",
     "output_type": "stream",
     "text": [
      "[[7118  161]\n",
      " [ 638  321]]\n",
      "90.0\n"
     ]
    }
   ],
   "source": [
    "logmodel = LogisticRegression() \n",
    "logmodel.fit(X_train,y_train)\n",
    "logpred = logmodel.predict(X_test)\n",
    "\n",
    "\n",
    "print(confusion_matrix(y_test, logpred))\n",
    "print(round(accuracy_score(y_test, logpred),2)*100)\n",
    "LOGCV = (cross_val_score(logmodel, X_test, y_test, cv=k_fold, n_jobs=1, scoring = 'accuracy').mean())"
   ]
  },
  {
   "cell_type": "markdown",
   "metadata": {},
   "source": [
    "## k-NN"
   ]
  },
  {
   "cell_type": "code",
   "execution_count": 530,
   "metadata": {
    "id": "NHxB-_ZUysZ6"
   },
   "outputs": [
    {
     "name": "stdout",
     "output_type": "stream",
     "text": [
      "k=1 86.68 (+/- 0.49)\n",
      "k=2 89.38 (+/- 0.47)\n",
      "k=3 88.98 (+/- 0.52)\n",
      "k=4 89.84 (+/- 0.48)\n",
      "k=5 89.85 (+/- 0.64)\n",
      "k=6 90.26 (+/- 0.50)\n",
      "k=7 90.24 (+/- 0.55)\n",
      "k=8 90.41 (+/- 0.51)\n",
      "k=9 90.38 (+/- 0.57)\n",
      "k=10 90.38 (+/- 0.56)\n",
      "k=11 90.42 (+/- 0.63)\n",
      "k=12 90.46 (+/- 0.62)\n",
      "k=13 90.49 (+/- 0.67)\n",
      "k=14 90.45 (+/- 0.65)\n",
      "k=15 90.49 (+/- 0.65)\n",
      "k=16 90.47 (+/- 0.64)\n",
      "k=17 90.53 (+/- 0.67)\n",
      "k=18 90.48 (+/- 0.72)\n",
      "k=19 90.49 (+/- 0.69)\n",
      "k=20 90.49 (+/- 0.69)\n",
      "k=21 90.52 (+/- 0.70)\n",
      "k=22 90.47 (+/- 0.64)\n",
      "k=23 90.51 (+/- 0.63)\n",
      "k=24 90.51 (+/- 0.66)\n",
      "k=25 90.49 (+/- 0.66)\n",
      "The optimal number of neighbors is 16 with 90.5%\n"
     ]
    },
    {
     "data": {
      "image/png": "[encoded data removed]",
      "text/plain": [
       "<Figure size 640x480 with 1 Axes>"
      ]
     },
     "metadata": {},
     "output_type": "display_data"
    }
   ],
   "source": [
    "#Neighbors\n",
    "neighbors = np.arange(0,25)\n",
    "\n",
    "#Create empty list that will hold cv scores\n",
    "cv_scores = []\n",
    "\n",
    "#Perform 10-fold cross validation on training set for odd values of k:\n",
    "for k in neighbors:\n",
    "    k_value = k+1\n",
    "    knn = KNeighborsClassifier(n_neighbors = k_value, weights='uniform', p=2, metric='euclidean')\n",
    "    scores = model_selection.cross_val_score(knn, X_train, y_train, cv=k_fold, scoring='accuracy')\n",
    "    cv_scores.append(scores.mean()*100)\n",
    "    print(\"k=%d %0.2f (+/- %0.2f)\" % (k_value, scores.mean()*100, scores.std()*100))\n",
    "\n",
    "optimal_k = neighbors[cv_scores.index(max(cv_scores))]\n",
    "print (\"The optimal number of neighbors is %d with %0.1f%%\" % (optimal_k, cv_scores[optimal_k]))\n",
    "\n",
    "plt.plot(neighbors, cv_scores)\n",
    "plt.xlabel('Number of Neighbors K')\n",
    "plt.ylabel('Train Accuracy')\n",
    "plt.show()"
   ]
  },
  {
   "cell_type": "code",
   "execution_count": 531,
   "metadata": {
    "id": "483uXHTnysZ6"
   },
   "outputs": [
    {
     "name": "stdout",
     "output_type": "stream",
     "text": [
      "[[7149  130]\n",
      " [ 700  259]]\n",
      "90.0\n"
     ]
    }
   ],
   "source": [
    "knn = KNeighborsClassifier(n_neighbors=optimal_k)\n",
    "knn.fit(X_train,y_train)\n",
    "knnpred = knn.predict(X_test)\n",
    "\n",
    "print(confusion_matrix(y_test, knnpred))\n",
    "print(round(accuracy_score(y_test, knnpred),2)*100)\n",
    "KNNCV = (cross_val_score(knn, X_test, y_test, cv=k_fold, n_jobs=1, scoring = 'accuracy').mean())"
   ]
  },
  {
   "cell_type": "markdown",
   "metadata": {},
   "source": [
    "## Логістична Регресія"
   ]
  },
  {
   "cell_type": "code",
   "execution_count": 536,
   "metadata": {
    "id": "bIir_TuRysZ7"
   },
   "outputs": [
    {
     "data": {
      "text/html": [
       "<div>\n",
       "<style scoped>\n",
       "    .dataframe tbody tr th:only-of-type {\n",
       "        vertical-align: middle;\n",
       "    }\n",
       "\n",
       "    .dataframe tbody tr th {\n",
       "        vertical-align: top;\n",
       "    }\n",
       "\n",
       "    .dataframe thead th {\n",
       "        text-align: right;\n",
       "    }\n",
       "</style>\n",
       "<table border=\"1\" class=\"dataframe\">\n",
       "  <thead>\n",
       "    <tr style=\"text-align: right;\">\n",
       "      <th></th>\n",
       "      <th>Models</th>\n",
       "      <th>Score</th>\n",
       "    </tr>\n",
       "  </thead>\n",
       "  <tbody>\n",
       "    <tr>\n",
       "      <th>0</th>\n",
       "      <td>LogisticRegression</td>\n",
       "      <td>90.398465</td>\n",
       "    </tr>\n",
       "    <tr>\n",
       "      <th>1</th>\n",
       "      <td>k-nn</td>\n",
       "      <td>90.058556</td>\n",
       "    </tr>\n",
       "  </tbody>\n",
       "</table>\n",
       "</div>"
      ],
      "text/plain": [
       "               Models      Score\n",
       "0  LogisticRegression  90.398465\n",
       "1                k-nn  90.058556"
      ]
     },
     "execution_count": 536,
     "metadata": {},
     "output_type": "execute_result"
    }
   ],
   "source": [
    "models = pd.DataFrame({\n",
    "                'Models': ['LogisticRegression','k-nn'],\n",
    "                'Score':  [LOGCV*100,KNNCV*100]})\n",
    "\n",
    "models.sort_values(by='Score', ascending=False)"
   ]
  },
  {
   "cell_type": "markdown",
   "metadata": {
    "id": "mh_Vd_vOysZ7"
   },
   "source": [
    "**Висновки по моделям (детальні)**"
   ]
  },
  {
   "cell_type": "markdown",
   "metadata": {
    "id": "ZK2CADn6ysZ7"
   },
   "source": [
    "1.   \n",
    "2.   \n",
    "3. ..."
   ]
  }
 ],
 "metadata": {
  "colab": {
   "name": "Task5_Classification (1).ipynb",
   "provenance": []
  },
  "kernelspec": {
   "display_name": "Python 3",
   "language": "python",
   "name": "python3"
  },
  "language_info": {
   "codemirror_mode": {
    "name": "ipython",
    "version": 3
   },
   "file_extension": ".py",
   "mimetype": "text/x-python",
   "name": "python",
   "nbconvert_exporter": "python",
   "pygments_lexer": "ipython3",
   "version": "3.11.6"
  }
 },
 "nbformat": 4,
 "nbformat_minor": 4
}
